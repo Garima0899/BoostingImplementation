{
 "cells": [
  {
   "cell_type": "code",
   "execution_count": 3,
   "id": "c8571429-d1fb-45e7-ab8c-5b5aa9a72745",
   "metadata": {},
   "outputs": [],
   "source": [
    "from sklearn.ensemble import AdaBoostClassifier\n",
    "from sklearn import datasets\n",
    "from sklearn.model_selection import train_test_split\n",
    "from sklearn import metrics\n",
    "from sklearn.svm import SVC\n"
   ]
  },
  {
   "cell_type": "code",
   "execution_count": 5,
   "id": "b01a8f9d-a485-4625-bb91-6fe51fa25e8e",
   "metadata": {},
   "outputs": [],
   "source": [
    "iris = datasets.load_iris()\n",
    "X  = iris.data\n",
    "y = iris.target"
   ]
  },
  {
   "cell_type": "code",
   "execution_count": 23,
   "id": "6c907b2b-44c9-45a1-96c1-74add57809dd",
   "metadata": {},
   "outputs": [],
   "source": [
    "X_train,X_test,y_train,y_test = train_test_split(X,y,test_size = 0.3,random_state = 3)"
   ]
  },
  {
   "cell_type": "code",
   "execution_count": 25,
   "id": "2711a534-0e82-48f1-847e-12d2ec39695e",
   "metadata": {},
   "outputs": [],
   "source": [
    " abc = AdaBoostClassifier(n_estimators= 10,\n",
    "                          learning_rate = 1,algorithm ='SAMME') #stage wise additive modeling using multiclass exponential loss function\n",
    "model = abc.fit(X_train,y_train)\n",
    "y_pred = model.predict(X_test)"
   ]
  },
  {
   "cell_type": "code",
   "execution_count": 27,
   "id": "fdbb1105-1b25-4a1c-a46d-497ab3e279b4",
   "metadata": {},
   "outputs": [
    {
     "name": "stdout",
     "output_type": "stream",
     "text": [
      "Accuracy: 0.9555555555555556\n"
     ]
    }
   ],
   "source": [
    "print('Accuracy:',metrics.accuracy_score(y_test,y_pred))"
   ]
  },
  {
   "cell_type": "code",
   "execution_count": 29,
   "id": "2ad5e81e-9e06-4596-8312-3790575f22f7",
   "metadata": {},
   "outputs": [
    {
     "name": "stdout",
     "output_type": "stream",
     "text": [
      "[0.09782986 0.         0.47024207 0.43192807]\n"
     ]
    }
   ],
   "source": [
    "importances = model.feature_importances_\n",
    "print(importances)\n"
   ]
  },
  {
   "cell_type": "code",
   "execution_count": 31,
   "id": "edf1a2cd-252f-4ebf-b31d-0d882b00b8a1",
   "metadata": {},
   "outputs": [],
   "source": [
    "from sklearn.svm import SVC\n"
   ]
  },
  {
   "cell_type": "code",
   "execution_count": 21,
   "id": "45c52050-7ac8-4c0b-ad98-74cb6e7ea7bd",
   "metadata": {},
   "outputs": [],
   "source": [
    "\n",
    "svc = SVC(probability = True,kernel = 'linear')"
   ]
  },
  {
   "cell_type": "code",
   "execution_count": 33,
   "id": "38efb16a-5a67-4245-9dd0-ab1c9de55783",
   "metadata": {},
   "outputs": [],
   "source": [
    "abc = AdaBoostClassifier(n_estimators= 50,estimator = svc,\n",
    "                          learning_rate = 1,algorithm ='SAMME')"
   ]
  },
  {
   "cell_type": "code",
   "execution_count": 37,
   "id": "a9a88961-dcd8-4e43-8934-9304345c454b",
   "metadata": {},
   "outputs": [],
   "source": [
    "model = abc.fit(X_train,y_train)"
   ]
  },
  {
   "cell_type": "code",
   "execution_count": 39,
   "id": "944730c2-804d-4867-b9c7-eec07e172e78",
   "metadata": {},
   "outputs": [],
   "source": [
    "y_pred = model.predict(X_test)"
   ]
  },
  {
   "cell_type": "code",
   "execution_count": 41,
   "id": "a273039b-e1ec-4d78-bdd9-f007d142139a",
   "metadata": {},
   "outputs": [
    {
     "name": "stdout",
     "output_type": "stream",
     "text": [
      "Accuracy: 0.9111111111111111\n"
     ]
    }
   ],
   "source": [
    "print('Accuracy:',metrics.accuracy_score(y_test,y_pred))"
   ]
  },
  {
   "cell_type": "code",
   "execution_count": null,
   "id": "f1f844dc-9e5e-496e-a53a-6ca5600e3fba",
   "metadata": {},
   "outputs": [],
   "source": []
  }
 ],
 "metadata": {
  "kernelspec": {
   "display_name": "Python 3 (ipykernel)",
   "language": "python",
   "name": "python3"
  },
  "language_info": {
   "codemirror_mode": {
    "name": "ipython",
    "version": 3
   },
   "file_extension": ".py",
   "mimetype": "text/x-python",
   "name": "python",
   "nbconvert_exporter": "python",
   "pygments_lexer": "ipython3",
   "version": "3.11.7"
  }
 },
 "nbformat": 4,
 "nbformat_minor": 5
}
